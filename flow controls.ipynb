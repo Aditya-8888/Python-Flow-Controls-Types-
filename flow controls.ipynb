{
 "cells": [
  {
   "cell_type": "markdown",
   "metadata": {},
   "source": [
    "FLOW CONTROLS\n",
    " TYPES: 1)IF-ELSE\n",
    "        2)IF-ELIF-ELSE\n",
    "        3)NESTED IF\n",
    "\n",
    "SYNTAX:  1) if-else:-\n",
    "  if exp:\n",
    "    block\n",
    "  else:\n",
    "    block           "
   ]
  },
  {
   "cell_type": "code",
   "execution_count": 1,
   "metadata": {},
   "outputs": [],
   "source": [
    "#membership operator( in , not in)\n",
    "s=\"python\""
   ]
  },
  {
   "cell_type": "code",
   "execution_count": 2,
   "metadata": {},
   "outputs": [
    {
     "data": {
      "text/plain": [
       "True"
      ]
     },
     "execution_count": 2,
     "metadata": {},
     "output_type": "execute_result"
    }
   ],
   "source": [
    "\"h\" in s"
   ]
  },
  {
   "cell_type": "code",
   "execution_count": 3,
   "metadata": {},
   "outputs": [
    {
     "data": {
      "text/plain": [
       "False"
      ]
     },
     "execution_count": 3,
     "metadata": {},
     "output_type": "execute_result"
    }
   ],
   "source": [
    "\"a\" in s"
   ]
  },
  {
   "cell_type": "code",
   "execution_count": 4,
   "metadata": {},
   "outputs": [],
   "source": [
    "#identity operator(is,is not)\n",
    "a=10\n",
    "b=12"
   ]
  },
  {
   "cell_type": "code",
   "execution_count": 5,
   "metadata": {},
   "outputs": [
    {
     "data": {
      "text/plain": [
       "False"
      ]
     },
     "execution_count": 5,
     "metadata": {},
     "output_type": "execute_result"
    }
   ],
   "source": [
    "a is b"
   ]
  },
  {
   "cell_type": "code",
   "execution_count": 6,
   "metadata": {},
   "outputs": [
    {
     "data": {
      "text/plain": [
       "True"
      ]
     },
     "execution_count": 6,
     "metadata": {},
     "output_type": "execute_result"
    }
   ],
   "source": [
    "a is not b"
   ]
  },
  {
   "cell_type": "code",
   "execution_count": 10,
   "metadata": {},
   "outputs": [
    {
     "name": "stdout",
     "output_type": "stream",
     "text": [
      "both are different\n"
     ]
    }
   ],
   "source": [
    "# if else\n",
    "\n",
    "a=int(input(\"enter first nos\"))     #a=20\n",
    "b=int(input(\"enter second nos\"))     #b=30\n",
    "\n",
    "if a==b:\n",
    "    print(\"both are same values\")\n",
    "else:\n",
    "    print(\"both are different\")"
   ]
  },
  {
   "cell_type": "code",
   "execution_count": 14,
   "metadata": {},
   "outputs": [
    {
     "name": "stdout",
     "output_type": "stream",
     "text": [
      "even\n"
     ]
    }
   ],
   "source": [
    "a=int(input(\"enter nos\")) # input is 20\n",
    "\n",
    "if a%2==0:\n",
    "    print(\"even\")\n",
    "else:\n",
    "    print(\"odd\")"
   ]
  },
  {
   "cell_type": "code",
   "execution_count": 20,
   "metadata": {},
   "outputs": [
    {
     "name": "stdout",
     "output_type": "stream",
     "text": [
      "  a is max\n"
     ]
    }
   ],
   "source": [
    "# wrie a program to print maximum nos from two nos,\n",
    "\n",
    "a=int(input(\"enter first nos\"))     #a=20\n",
    "b=int(input(\"enter second nos\"))     #b=15\n",
    "\n",
    "if a>b:\n",
    "    print(\"  a is max\")\n",
    "else:\n",
    "    print(\" b is max\")"
   ]
  },
  {
   "cell_type": "code",
   "execution_count": 23,
   "metadata": {},
   "outputs": [
    {
     "name": "stdout",
     "output_type": "stream",
     "text": [
      "c is max\n"
     ]
    }
   ],
   "source": [
    "# find the maximum nos from 3 nos.\n",
    "\n",
    "a=int(input(\"enter first nos\"))     #a=20\n",
    "b=int(input(\"enter second nos\"))     #b=15\n",
    "c=int(input(\"enter third nos\"))   #c=35\n",
    "\n",
    "if a>b and a>c:\n",
    "    print(\"a is max\")\n",
    "elif b>c and b>a:\n",
    "    print(\" b is max\")\n",
    "else: \n",
    "    print(\"c is max\")\n"
   ]
  },
  {
   "cell_type": "code",
   "execution_count": 27,
   "metadata": {},
   "outputs": [
    {
     "name": "stdout",
     "output_type": "stream",
     "text": [
      "given a is : 200\n",
      "a is positive\n"
     ]
    }
   ],
   "source": [
    "# check whether given nos is positive, negative or zero\n",
    "a=int(input(\"enter the nos\"))    \n",
    "print(\"given a is :\",a)\n",
    "\n",
    "if a>0:\n",
    "    print( \"a is positive\")\n",
    "elif a<0:\n",
    "    print(\" a is negative\")\n",
    "else:\n",
    "    print(\" a is zero\")"
   ]
  },
  {
   "cell_type": "code",
   "execution_count": 34,
   "metadata": {},
   "outputs": [
    {
     "name": "stdout",
     "output_type": "stream",
     "text": [
      "distinction\n"
     ]
    }
   ],
   "source": [
    "# students marks\n",
    "\n",
    "marks=int (input(\"enter the marks:\"))\n",
    "if marks>75:\n",
    "    print(\"first class with distinction\")\n",
    "elif marks>65:\n",
    "    print(\"distinction\")\n",
    "elif marks>60:\n",
    "    print(\"pass\")\n",
    "else:\n",
    "    print(\"fail\")                         # it include negative ,positive nos"
   ]
  },
  {
   "cell_type": "code",
   "execution_count": 37,
   "metadata": {},
   "outputs": [
    {
     "name": "stdout",
     "output_type": "stream",
     "text": [
      "first class with distinction\n"
     ]
    }
   ],
   "source": [
    "# students marks\n",
    "\n",
    "marks=int (input(\"enter the marks:\"))\n",
    "if marks>0 and marks<=100:\n",
    "  if marks>75:\n",
    "      print(\"first class with distinction\")\n",
    "  elif marks>65:\n",
    "      print(\"distinction\")\n",
    "  elif marks>60:\n",
    "      print(\"pass\")\n",
    "  else:\n",
    "      print(\"fail\")   \n",
    "else: \n",
    "  print(\"invalid marks\")          "
   ]
  },
  {
   "cell_type": "code",
   "execution_count": 38,
   "metadata": {},
   "outputs": [
    {
     "name": "stdout",
     "output_type": "stream",
     "text": [
      "n: 15\n",
      "positive\n"
     ]
    }
   ],
   "source": [
    "# accept the no from user, if nos is not zero then check it is positive or negative\n",
    "\n",
    "n=int(input(\"enter any nos\"))\n",
    "print(\"n:\",n)\n",
    "if n!=0:\n",
    "    if n>0:\n",
    "        print(\"positive\")\n",
    "    else:\n",
    "        print(\"negative\")\n",
    "else:\n",
    "    print(\"nos is zero\")"
   ]
  },
  {
   "cell_type": "code",
   "execution_count": 39,
   "metadata": {},
   "outputs": [
    {
     "name": "stdout",
     "output_type": "stream",
     "text": [
      "n: 20\n",
      "positive\n",
      "even\n"
     ]
    }
   ],
   "source": [
    "# accept the no from user, if nos is not zero then check it is positive or negative\n",
    "\n",
    "n=int(input(\"enter any nos\"))\n",
    "print(\"n:\",n)\n",
    "if n!=0:\n",
    "    if n>0:\n",
    "        print(\"positive\")\n",
    "        if n%2==0:\n",
    "            print(\"even\")\n",
    "        else:\n",
    "            print(\"odd\")\n",
    "    else:\n",
    "       print(\"negative\")\n",
    "else:\n",
    "    print(\"no is zero\")\n"
   ]
  },
  {
   "cell_type": "code",
   "execution_count": 41,
   "metadata": {},
   "outputs": [
    {
     "name": "stdout",
     "output_type": "stream",
     "text": [
      "age: 2\n",
      "not elgible\n"
     ]
    }
   ],
   "source": [
    "# it is eligible for voting\n",
    "\n",
    "age=int(input(\"enter the age\"))\n",
    "print(\"age:\",age)\n",
    "\n",
    "if age!=0:\n",
    "    if age>18:\n",
    "         print(\"you are eligible\")\n",
    "    else:\n",
    "         print(\"not elgible\")\n",
    "else:\n",
    "     print(\"invalid age\")         \n"
   ]
  },
  {
   "cell_type": "code",
   "execution_count": 61,
   "metadata": {},
   "outputs": [
    {
     "name": "stdout",
     "output_type": "stream",
     "text": [
      "salary 200\n",
      "service_year 25\n",
      "The given employee able to take 5% bonus on salary\n"
     ]
    }
   ],
   "source": [
    "# Question (1) :a company decided to give bonus of 5% to employee if his year of servie is more than 5 years.\n",
    "             # ask user for their salary and year of service and print the net bonus amount.\n",
    "\n",
    "salary=int(input(\"enter the salary\"))\n",
    "print(\"salary\",salary)\n",
    "service_year=int(input(\"enters the years of experience\"))\n",
    "print(\"service_year\",service_year)\n",
    "if salary!=0 or service_year!=0:\n",
    "    if service_year>=5:\n",
    "        print(\"The given employee able to take 5% bonus on salary\")\n",
    "    else:\n",
    "         print(\"The employee not eligible for bonus\")\n",
    "else:\n",
    "    print(\"enter the valid salary\",salary)\n",
    "    print(\"enter the valid service_year\", service_year)\n"
   ]
  },
  {
   "cell_type": "code",
   "execution_count": 65,
   "metadata": {},
   "outputs": [
    {
     "name": "stdout",
     "output_type": "stream",
     "text": [
      "25\n",
      "discount cost 250.0\n",
      "total shopping cost 2250.0\n",
      "The customer will give the discount of 10%\n"
     ]
    }
   ],
   "source": [
    "# Question (2): a shop will give discount of 10% if the cost of purchased quantity is more than 1000. \n",
    "               #ask user for quantity.suppose the price of one unit is 100. print the total cost for user.\n",
    "\n",
    "quantity=int(input(\"enter the quantity\"))\n",
    "print(quantity)\n",
    "cost=quantity*100\n",
    "\n",
    "if cost>=1000:\n",
    "    print(\"discount cost\",cost*0.10)\n",
    "    print(\"total shopping cost\", cost-(cost*0.10))\n",
    "    print(\"The customer will give the discount of 10%\")\n",
    "else:\n",
    "    print(\"The customer not eligible for discount\")\n"
   ]
  },
  {
   "cell_type": "code",
   "execution_count": 66,
   "metadata": {},
   "outputs": [
    {
     "name": "stdout",
     "output_type": "stream",
     "text": [
      "5\n"
     ]
    }
   ],
   "source": [
    "# Question (3): write a program to print the absolute value of a no entered by the user. also print the user given no.\n",
    "n=int(input(\"enter the value\"))\n",
    "if n<0:\n",
    "    print((-1)*n)\n",
    "else:\n",
    "    print(n)    \n",
    "  "
   ]
  },
  {
   "cell_type": "code",
   "execution_count": 67,
   "metadata": {},
   "outputs": [
    {
     "name": "stdout",
     "output_type": "stream",
     "text": [
      "number 25\n",
      "the no is not divisible by 7\n"
     ]
    }
   ],
   "source": [
    "#Question(4):Check whether the nos is divisible by 7 or not.\n",
    "number=int(input(\"enter the number\"))\n",
    "print(\"number\",number)\n",
    "\n",
    "\n",
    "if number%7==0:\n",
    "        print(\"the no is divisible by 7\")\n",
    "else:\n",
    "        print(\"the no is not divisible by 7\")\n",
    "           \n",
    "\n"
   ]
  },
  {
   "cell_type": "code",
   "execution_count": 47,
   "metadata": {},
   "outputs": [
    {
     "name": "stdout",
     "output_type": "stream",
     "text": [
      "number 25\n",
      "hello\n"
     ]
    }
   ],
   "source": [
    "# Question(5): write a program to display \"Hello\" if the nos entered by user is multiple of 5 otherwise  print \"Bye\"\n",
    "number=int(input(\"enter the number\"))\n",
    "print(\"number\",number)\n",
    "\n",
    "\n",
    "if number%5==0:\n",
    "        print(\"hello\")\n",
    "else:\n",
    "        print(\"byeeeeeeeeeee\")\n",
    "   \n"
   ]
  },
  {
   "cell_type": "code",
   "execution_count": 52,
   "metadata": {},
   "outputs": [
    {
     "name": "stdout",
     "output_type": "stream",
     "text": [
      "no 2555\n",
      "the last digit  5\n"
     ]
    }
   ],
   "source": [
    "# Question(6): write a python program to display last digit of the nos given by the user.\n",
    "no=int(input(\"enter the no\"))\n",
    "last_digit=no%10\n",
    "print(\"the last digit \",last_digit)\n",
    "\n"
   ]
  },
  {
   "cell_type": "code",
   "execution_count": 71,
   "metadata": {},
   "outputs": [
    {
     "name": "stdout",
     "output_type": "stream",
     "text": [
      "no 99\n",
      "the last digit  9\n",
      "the no is divisible by 3\n"
     ]
    }
   ],
   "source": [
    "#Question(7): check whether last digit of the nos is divisible by 3 or not.\n",
    "no=int(input(\"enter the no\"))\n",
    "print(\"no\",no)\n",
    "last_digit=no%10\n",
    "print(\"the last digit \",last_digit)\n",
    "\n",
    "if last_digit%3==0:\n",
    "       print(\"the no is divisible by 3\")\n",
    "else:\n",
    "      print(\"the nos is not divisible by 3\")    \n",
    "\n"
   ]
  },
  {
   "cell_type": "code",
   "execution_count": null,
   "metadata": {},
   "outputs": [],
   "source": []
  }
 ],
 "metadata": {
  "kernelspec": {
   "display_name": "Python 3",
   "language": "python",
   "name": "python3"
  },
  "language_info": {
   "codemirror_mode": {
    "name": "ipython",
    "version": 3
   },
   "file_extension": ".py",
   "mimetype": "text/x-python",
   "name": "python",
   "nbconvert_exporter": "python",
   "pygments_lexer": "ipython3",
   "version": "3.11.3"
  }
 },
 "nbformat": 4,
 "nbformat_minor": 2
}
